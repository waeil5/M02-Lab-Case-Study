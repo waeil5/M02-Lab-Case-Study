{
 "cells": [
  {
   "cell_type": "code",
   "execution_count": 1,
   "id": "a6f07f56",
   "metadata": {},
   "outputs": [
    {
     "name": "stdout",
     "output_type": "stream",
     "text": [
      "Enter student last name: m\n",
      "Enter student first name: w\n",
      "Enter student GPA: 3.33\n",
      "w m has made the Honor Roll.\n",
      "\n",
      "Enter student last name: tt\n",
      "Enter student first name: ss\n",
      "Enter student GPA: 3.25\n",
      "ss tt has made the Honor Roll.\n",
      "\n",
      "Enter student last name: ZZZ\n",
      "Thank you bye!\n"
     ]
    }
   ],
   "source": [
    "while True:   # while loop for repeating the questions\n",
    "        last_name=input(\"Enter student last name: \") # will ask the user to enter last name of the student\n",
    "        if last_name==\"ZZZ\":   # if the user entered ZZZ the program will quit and print \"thank you bye!\"\n",
    "            print(\"Thank you bye!\")\n",
    "            break\n",
    "        \n",
    "        first_name=input(\"Enter student first name: \")  # will ask the user to enter the first name\n",
    "        \n",
    "        gpa=float(input(\"Enter student GPA: \"))  # will ask user to enter the GPA of the student\n",
    "        \n",
    "        if gpa >= 3.5 and gpa <= 4:  # if the GPA is between 3.5 to the highest(4) the program will print \" the student has made the Dean's list\"\n",
    "            print(first_name+\" \"+last_name+\" has made the Dean's List.\\n\")\n",
    "            \n",
    "        elif gpa >= 3.25 and gpa <3.5: # if the GPA is between 3.25 to 3.5 , the program will print \" the student has mad the Honor Roll\"\n",
    "            print(first_name+\" \"+last_name+\" has made the Honor Roll.\\n\")\n",
    "            \n",
    "        elif gpa >4 or gpa <=0: # if the GPA is not in the range (less than 0 or greater than 4, the program will print \"Incorrect GPA number \")\n",
    "            print(\"Incorrect GPA number!.\\n\")\n",
    "            \n",
    "        else:\n",
    "            print(\"Sorry \"+first_name+\" \"+last_name+\" has NOT made the Dean's List or the Honor Roll.\\n\") # if the student has not passed (less than 3.25), will print \" the student not made the dean list or honor roll\"\n",
    "     \n",
    "\n"
   ]
  },
  {
   "cell_type": "code",
   "execution_count": null,
   "id": "6f6e1fab",
   "metadata": {},
   "outputs": [],
   "source": []
  }
 ],
 "metadata": {
  "kernelspec": {
   "display_name": "Python 3 (ipykernel)",
   "language": "python",
   "name": "python3"
  },
  "language_info": {
   "codemirror_mode": {
    "name": "ipython",
    "version": 3
   },
   "file_extension": ".py",
   "mimetype": "text/x-python",
   "name": "python",
   "nbconvert_exporter": "python",
   "pygments_lexer": "ipython3",
   "version": "3.10.9"
  }
 },
 "nbformat": 4,
 "nbformat_minor": 5
}
